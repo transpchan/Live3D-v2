{
  "cells": [
    {
      "cell_type": "markdown",
      "source": [
        "# Neural Rendering with Attention: An Incremental Improvement for Anime Character Animation\n",
        "![image](https://transpchan.github.io/live3d/main.png)\n",
        "This project is the official implement of [Neural Rendering with Attention: An Incremental Improvement for Anime Character Animation](https://github.com/transpchan/Live3D-v2). Watch more demos in our [HomePage](https://live3d.ml).\n",
        "\n",
        "Press start on the left of each block, and have fun!"
      ],
      "metadata": {
        "id": "it30o3cgHQfv"
      }
    },
    {
      "cell_type": "code",
      "execution_count": null,
      "metadata": {
        "id": "j6v8hfgi_OT5"
      },
      "outputs": [],
      "source": [
        "#@title Setup Repository\n",
        "#@markdown Clone git repo and install requirements.\n",
        "!git clone https://github.com/transpchan/Live3D-v2.git\n",
        "%cd Live3D-v2\n",
        "!pip install -r requirements.txt"
      ]
    },
    {
      "cell_type": "code",
      "execution_count": null,
      "metadata": {
        "id": "bwsHqZvzCAka"
      },
      "outputs": [],
      "source": [
        "#@title Download weights\n",
        "\n",
        "!mkdir weights\n",
        "!wget https://github.com/transpchan/Live3D-v2/releases/download/checkpoints-2.1/checkpoints.zip\n",
        "!unzip checkpoints.zip -d ./weights/"
      ]
    },
    {
      "cell_type": "code",
      "source": [
        "#@title Choose a Sample. Will download corresponding UDPs and Character Sheet. Skip if you want use your own\n",
        "#@markdown Choose `double_ponytail` or `short_hair` to use sample character sheets and UDP sequences. \n",
        "\n",
        "#@markdown You can also choose `self_defined`, upload your own UDP sequences or pose images to `/content/CoNR/poses/`, , and upload your own character sheets to `/content/CoNR/character_sheet/character/`.\n",
        "\n",
        "#@markdown **Caution**: The character in character sheets should be **as similar as possible to the one given in the UDP sequence**, otherwise the generated results will be uncontrollable. Please you can try using https://github.com/KurisuMakise004/MMD2UDP (notebook:https://colab.research.google.com/github/KurisuMakise004/MMD2UDP/blob/main/COLAB.ipynb) to generate your own UDP sequence.\n",
        "\n",
        "\n",
        "character = 'double_ponytail' #@param ['double_ponytail', 'short_hair', 'self_defined']"
      ],
      "metadata": {
        "id": "rxauWls8Ap4N"
      },
      "execution_count": null,
      "outputs": []
    },
    {
      "cell_type": "code",
      "execution_count": null,
      "metadata": {
        "id": "GsjeMC0DD2TP"
      },
      "outputs": [],
      "source": [
        "#@title Download corresponding UDPs and Character Sheet. Upload if you want use your own\n",
        "\n",
        "#@markdown Click start to download sample character sheets and UDP sequences.\n",
        "!rm *.zip.*\n",
        "!rm -r character_sheet/\n",
        "!rm -r poses/\n",
        "!mkdir character_sheet/\n",
        "if character == 'short_hair':\n",
        "  !wget https://github.com/transpchan/Live3D-v2/releases/download/samples/short_hair_images.zip\n",
        "  !unzip -j  short_hair_images.zip -x '__MACOSX/*'  -d character_sheet/character/ \n",
        "elif character == 'double_ponytail':\n",
        "  !wget https://github.com/transpchan/Live3D-v2/releases/download/samples/double_ponytail_images.zip\n",
        "  !unzip -j  double_ponytail_images.zip -x '__MACOSX/*' -d character_sheet/character/\n",
        "else:\n",
        "  print(\"Please upload your character sheets to /content/CoNR/character_sheet/character/\")\n",
        "if character == 'short_hair':\n",
        "  !wget https://github.com/transpchan/Live3D-v2/releases/download/samples/short_hair.zip\n",
        "  !unzip -j  short_hair.zip -d poses/\n",
        "elif character == 'double_ponytail':\n",
        "  !wget https://github.com/transpchan/Live3D-v2/releases/download/samples/double_ponytail.zip\n",
        "  !unzip -j double_ponytail.zip -d poses/ \n",
        "else:\n",
        "  print(\"Please upload your UDP sequences or poses images to /content/CoNR/poses/ .\")"
      ]
    },
    {
      "cell_type": "code",
      "execution_count": null,
      "metadata": {
        "id": "slg-lLN6KQyr",
        "cellView": "form"
      },
      "outputs": [],
      "source": [
        "#@title Show all character sheets\n",
        "import cv2\n",
        "import numpy as np\n",
        "import os\n",
        "\n",
        "path ='./character_sheet/character/'\n",
        "files= os.listdir(path)\n",
        "imgs = []\n",
        "for file in files:\n",
        "     if not os.path.isdir(file):\n",
        "          img = cv2.imread(path+\"/\"+file, cv2.IMREAD_UNCHANGED);\n",
        "          imgs.append(img)\n",
        "print(\"Num of character sheets:\", len(imgs))\n",
        "imgs = np.concatenate(imgs, 1)\n",
        "cv2.imwrite('character_sheet.png', imgs)\n",
        "\n",
        "from IPython.display import Image\n",
        "Image(filename='character_sheet.png') "
      ]
    },
    {
      "cell_type": "code",
      "execution_count": null,
      "metadata": {
        "id": "OC17TkyYEFIY"
      },
      "outputs": [],
      "source": [
        "#@title RUN!\n",
        "#@markdown For sample data, this process may take about 40 minutes. You can stop earlier to get an shorter result (by clicking stop on the left).\n",
        "!mkdir results\n",
        "!python3 train.py --mode=test \\\n",
        "--dataloaders=2 \\\n",
        "--test_input_poses_images=./poses/ \\\n",
        "--test_input_person_images=./character_sheet/ \\\n",
        "--test_output_dir=./results/ \\\n",
        "--test_checkpoint_dir=./weights/ \n"
      ]
    },
    {
      "cell_type": "code",
      "execution_count": null,
      "metadata": {
        "id": "rMyxlpqyEcsW"
      },
      "outputs": [],
      "source": [
        "#@title Merge generated images into a video\n",
        "!ffmpeg -r 30 -y -i ./results/%d.png  -c:v qtrle output_adobe_premiere.mov \n",
        "!ffmpeg -r 30 -y -i ./results/%d.png  -c:v libvpx-vp9 output.webm "
      ]
    },
    {
      "cell_type": "code",
      "execution_count": 39,
      "metadata": {
        "id": "NfzPg6ESEhYE",
        "colab": {
          "base_uri": "https://localhost:8080/",
          "height": 358
        },
        "outputId": "6c15eb3e-ff0c-4734-a7fa-750c65513cc0"
      },
      "outputs": [
        {
          "output_type": "execute_result",
          "data": {
            "text/plain": [
              "<IPython.core.display.HTML object>"
            ],
            "text/html": [
              "<video width=600 controls><source src=\"data:video/webm;base64,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\"></video>"
            ]
          },
          "metadata": {},
          "execution_count": 39
        }
      ],
      "source": [
        "#@title Show video!\n",
        "from IPython.display import HTML\n",
        "from base64 import b64encode\n",
        " \n",
        "def show_video(video_path, video_width = 600):\n",
        "  video_file = open(video_path, \"r+b\").read()\n",
        "  video_url = f\"data:video/webm;base64,{b64encode(video_file).decode()}\"\n",
        "  return HTML(f\"\"\"<video width={video_width} controls><source src=\"{video_url}\"></video>\"\"\")\n",
        " \n",
        "show_video('output.webm')"
      ]
    }
  ],
  "metadata": {
    "accelerator": "GPU",
    "colab": {
      "provenance": []
    },
    "gpuClass": "standard",
    "kernelspec": {
      "display_name": "Python 3",
      "name": "python3"
    },
    "language_info": {
      "name": "python"
    }
  },
  "nbformat": 4,
  "nbformat_minor": 0
}